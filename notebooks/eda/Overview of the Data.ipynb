{
 "cells": [
  {
   "cell_type": "markdown",
   "metadata": {},
   "source": [
    "## Imports and Setup"
   ]
  },
  {
   "cell_type": "code",
   "execution_count": 1,
   "metadata": {},
   "outputs": [],
   "source": [
    "import datetime as dt\n",
    "import matplotlib.pyplot as plt\n",
    "import pandas as pd\n",
    "import re\n",
    "import seaborn as sns\n",
    "import string"
   ]
  },
  {
   "cell_type": "code",
   "execution_count": 2,
   "metadata": {},
   "outputs": [],
   "source": [
    "from collections import Counter\n",
    "from pathlib import Path\n",
    "from sklearn.feature_extraction.text import TfidfVectorizer\n",
    "from wordcloud import WordCloud"
   ]
  },
  {
   "cell_type": "code",
   "execution_count": 3,
   "metadata": {},
   "outputs": [],
   "source": [
    "from src.paths import INTERIM_CORPUS"
   ]
  },
  {
   "cell_type": "code",
   "execution_count": 4,
   "metadata": {},
   "outputs": [],
   "source": [
    "%config InlineBackend.figure_format = \"retina\"\n",
    "%matplotlib inline"
   ]
  },
  {
   "cell_type": "markdown",
   "metadata": {},
   "source": [
    "## Ingestion and Initial Inspection of the Data"
   ]
  },
  {
   "cell_type": "markdown",
   "metadata": {},
   "source": [
    "### Number of files to collect"
   ]
  },
  {
   "cell_type": "code",
   "execution_count": 5,
   "metadata": {},
   "outputs": [
    {
     "data": {
      "text/plain": [
       "Counter({'.csv': 89})"
      ]
     },
     "execution_count": 5,
     "metadata": {},
     "output_type": "execute_result"
    }
   ],
   "source": [
    "Counter(p.suffix for p in INTERIM_CORPUS.glob('*.csv'))"
   ]
  },
  {
   "cell_type": "markdown",
   "metadata": {},
   "source": [
    "### Import"
   ]
  },
  {
   "cell_type": "code",
   "execution_count": 6,
   "metadata": {},
   "outputs": [],
   "source": [
    "df = pd.concat([\n",
    "    pd.read_csv(\n",
    "        f, \n",
    "        encoding='utf-8',\n",
    "        parse_dates=['parsed_created_at'])\n",
    "    for f in INTERIM_CORPUS.glob('*.csv')\n",
    "], ignore_index=True)  # otherwise, index is weird"
   ]
  },
  {
   "cell_type": "markdown",
   "metadata": {},
   "source": [
    "### Data Inspection"
   ]
  },
  {
   "cell_type": "code",
   "execution_count": 7,
   "metadata": {},
   "outputs": [
    {
     "data": {
      "text/html": [
       "<div>\n",
       "<style scoped>\n",
       "    .dataframe tbody tr th:only-of-type {\n",
       "        vertical-align: middle;\n",
       "    }\n",
       "\n",
       "    .dataframe tbody tr th {\n",
       "        vertical-align: top;\n",
       "    }\n",
       "\n",
       "    .dataframe thead th {\n",
       "        text-align: right;\n",
       "    }\n",
       "</style>\n",
       "<table border=\"1\" class=\"dataframe\">\n",
       "  <thead>\n",
       "    <tr style=\"text-align: right;\">\n",
       "      <th></th>\n",
       "      <th>id</th>\n",
       "      <th>tweet_url</th>\n",
       "      <th>created_at</th>\n",
       "      <th>parsed_created_at</th>\n",
       "      <th>user_screen_name</th>\n",
       "      <th>text</th>\n",
       "      <th>tweet_type</th>\n",
       "      <th>coordinates</th>\n",
       "      <th>place</th>\n",
       "      <th>hashtags</th>\n",
       "      <th>...</th>\n",
       "      <th>user_favourites_count</th>\n",
       "      <th>user_followers_count</th>\n",
       "      <th>user_friends_count</th>\n",
       "      <th>user_listed_count</th>\n",
       "      <th>user_location</th>\n",
       "      <th>user_name</th>\n",
       "      <th>user_statuses_count</th>\n",
       "      <th>user_time_zone</th>\n",
       "      <th>user_urls</th>\n",
       "      <th>user_verified</th>\n",
       "    </tr>\n",
       "  </thead>\n",
       "  <tbody>\n",
       "    <tr>\n",
       "      <th>0</th>\n",
       "      <td>1088938753291362304</td>\n",
       "      <td>https://twitter.com/LloydCymru/status/10889387...</td>\n",
       "      <td>Fri Jan 25 23:16:44 +0000 2019</td>\n",
       "      <td>2019-01-25 23:16:44+00:00</td>\n",
       "      <td>LloydCymru</td>\n",
       "      <td>RT @AmphetCymru: Anytime a boomer Britnat who ...</td>\n",
       "      <td>retweet</td>\n",
       "      <td>NaN</td>\n",
       "      <td>NaN</td>\n",
       "      <td>NaN</td>\n",
       "      <td>...</td>\n",
       "      <td>9284</td>\n",
       "      <td>396</td>\n",
       "      <td>1215</td>\n",
       "      <td>0</td>\n",
       "      <td>Aberystwyth, Cymru</td>\n",
       "      <td>Lloyd🏴󠁧󠁢󠁷󠁬󠁳󠁿</td>\n",
       "      <td>2597</td>\n",
       "      <td>NaN</td>\n",
       "      <td>NaN</td>\n",
       "      <td>False</td>\n",
       "    </tr>\n",
       "    <tr>\n",
       "      <th>1</th>\n",
       "      <td>1088938746530197504</td>\n",
       "      <td>https://twitter.com/KevinMitch76ell/status/108...</td>\n",
       "      <td>Fri Jan 25 23:16:43 +0000 2019</td>\n",
       "      <td>2019-01-25 23:16:43+00:00</td>\n",
       "      <td>KevinMitch76ell</td>\n",
       "      <td>RT @RebetikoWalrus: @hilarybennmp We don't wan...</td>\n",
       "      <td>retweet</td>\n",
       "      <td>NaN</td>\n",
       "      <td>NaN</td>\n",
       "      <td>Brexit</td>\n",
       "      <td>...</td>\n",
       "      <td>93585</td>\n",
       "      <td>472</td>\n",
       "      <td>444</td>\n",
       "      <td>3</td>\n",
       "      <td>Esher, South East</td>\n",
       "      <td>Kevin Mitchell</td>\n",
       "      <td>57861</td>\n",
       "      <td>NaN</td>\n",
       "      <td>NaN</td>\n",
       "      <td>False</td>\n",
       "    </tr>\n",
       "    <tr>\n",
       "      <th>2</th>\n",
       "      <td>1088938744424599569</td>\n",
       "      <td>https://twitter.com/wisitwippl/status/10889387...</td>\n",
       "      <td>Fri Jan 25 23:16:42 +0000 2019</td>\n",
       "      <td>2019-01-25 23:16:42+00:00</td>\n",
       "      <td>wisitwippl</td>\n",
       "      <td>RT @uk_rants: Exactly the attitude one encount...</td>\n",
       "      <td>retweet</td>\n",
       "      <td>NaN</td>\n",
       "      <td>NaN</td>\n",
       "      <td>Brexit</td>\n",
       "      <td>...</td>\n",
       "      <td>8022</td>\n",
       "      <td>274</td>\n",
       "      <td>704</td>\n",
       "      <td>3</td>\n",
       "      <td>Berkshire, UK</td>\n",
       "      <td>What Is It With People?</td>\n",
       "      <td>10870</td>\n",
       "      <td>NaN</td>\n",
       "      <td>NaN</td>\n",
       "      <td>False</td>\n",
       "    </tr>\n",
       "    <tr>\n",
       "      <th>3</th>\n",
       "      <td>1088938738099634181</td>\n",
       "      <td>https://twitter.com/MusedViews/status/10889387...</td>\n",
       "      <td>Fri Jan 25 23:16:41 +0000 2019</td>\n",
       "      <td>2019-01-25 23:16:41+00:00</td>\n",
       "      <td>MusedViews</td>\n",
       "      <td>RT @nickreeves9876: Tory ministers threaten vi...</td>\n",
       "      <td>retweet</td>\n",
       "      <td>NaN</td>\n",
       "      <td>NaN</td>\n",
       "      <td>NaN</td>\n",
       "      <td>...</td>\n",
       "      <td>425</td>\n",
       "      <td>678</td>\n",
       "      <td>1361</td>\n",
       "      <td>8</td>\n",
       "      <td>NaN</td>\n",
       "      <td>MusedViews #CancelBrexit</td>\n",
       "      <td>3167</td>\n",
       "      <td>NaN</td>\n",
       "      <td>NaN</td>\n",
       "      <td>False</td>\n",
       "    </tr>\n",
       "    <tr>\n",
       "      <th>4</th>\n",
       "      <td>1088938734752550913</td>\n",
       "      <td>https://twitter.com/HigherGroundPr2/status/108...</td>\n",
       "      <td>Fri Jan 25 23:16:40 +0000 2019</td>\n",
       "      <td>2019-01-25 23:16:40+00:00</td>\n",
       "      <td>HigherGroundPr2</td>\n",
       "      <td>RT @GETAnalysis: @MattCartoonist @Telegraph Re...</td>\n",
       "      <td>retweet</td>\n",
       "      <td>NaN</td>\n",
       "      <td>NaN</td>\n",
       "      <td>Britain Brexit Befuddlement</td>\n",
       "      <td>...</td>\n",
       "      <td>309</td>\n",
       "      <td>3</td>\n",
       "      <td>4</td>\n",
       "      <td>0</td>\n",
       "      <td>Waterfront Community</td>\n",
       "      <td>HigherGroundProductions</td>\n",
       "      <td>268</td>\n",
       "      <td>NaN</td>\n",
       "      <td>NaN</td>\n",
       "      <td>False</td>\n",
       "    </tr>\n",
       "  </tbody>\n",
       "</table>\n",
       "<p>5 rows × 37 columns</p>\n",
       "</div>"
      ],
      "text/plain": [
       "                    id                                          tweet_url  \\\n",
       "0  1088938753291362304  https://twitter.com/LloydCymru/status/10889387...   \n",
       "1  1088938746530197504  https://twitter.com/KevinMitch76ell/status/108...   \n",
       "2  1088938744424599569  https://twitter.com/wisitwippl/status/10889387...   \n",
       "3  1088938738099634181  https://twitter.com/MusedViews/status/10889387...   \n",
       "4  1088938734752550913  https://twitter.com/HigherGroundPr2/status/108...   \n",
       "\n",
       "                       created_at         parsed_created_at user_screen_name  \\\n",
       "0  Fri Jan 25 23:16:44 +0000 2019 2019-01-25 23:16:44+00:00       LloydCymru   \n",
       "1  Fri Jan 25 23:16:43 +0000 2019 2019-01-25 23:16:43+00:00  KevinMitch76ell   \n",
       "2  Fri Jan 25 23:16:42 +0000 2019 2019-01-25 23:16:42+00:00       wisitwippl   \n",
       "3  Fri Jan 25 23:16:41 +0000 2019 2019-01-25 23:16:41+00:00       MusedViews   \n",
       "4  Fri Jan 25 23:16:40 +0000 2019 2019-01-25 23:16:40+00:00  HigherGroundPr2   \n",
       "\n",
       "                                                text tweet_type coordinates  \\\n",
       "0  RT @AmphetCymru: Anytime a boomer Britnat who ...    retweet         NaN   \n",
       "1  RT @RebetikoWalrus: @hilarybennmp We don't wan...    retweet         NaN   \n",
       "2  RT @uk_rants: Exactly the attitude one encount...    retweet         NaN   \n",
       "3  RT @nickreeves9876: Tory ministers threaten vi...    retweet         NaN   \n",
       "4  RT @GETAnalysis: @MattCartoonist @Telegraph Re...    retweet         NaN   \n",
       "\n",
       "  place                     hashtags  ... user_favourites_count  \\\n",
       "0   NaN                          NaN  ...                  9284   \n",
       "1   NaN                       Brexit  ...                 93585   \n",
       "2   NaN                       Brexit  ...                  8022   \n",
       "3   NaN                          NaN  ...                   425   \n",
       "4   NaN  Britain Brexit Befuddlement  ...                   309   \n",
       "\n",
       "  user_followers_count  user_friends_count user_listed_count  \\\n",
       "0                  396                1215                 0   \n",
       "1                  472                 444                 3   \n",
       "2                  274                 704                 3   \n",
       "3                  678                1361                 8   \n",
       "4                    3                   4                 0   \n",
       "\n",
       "          user_location                 user_name user_statuses_count  \\\n",
       "0    Aberystwyth, Cymru              Lloyd🏴󠁧󠁢󠁷󠁬󠁳󠁿                2597   \n",
       "1     Esher, South East            Kevin Mitchell               57861   \n",
       "2         Berkshire, UK   What Is It With People?               10870   \n",
       "3                   NaN  MusedViews #CancelBrexit                3167   \n",
       "4  Waterfront Community   HigherGroundProductions                 268   \n",
       "\n",
       "  user_time_zone  user_urls  user_verified  \n",
       "0            NaN        NaN          False  \n",
       "1            NaN        NaN          False  \n",
       "2            NaN        NaN          False  \n",
       "3            NaN        NaN          False  \n",
       "4            NaN        NaN          False  \n",
       "\n",
       "[5 rows x 37 columns]"
      ]
     },
     "execution_count": 7,
     "metadata": {},
     "output_type": "execute_result"
    }
   ],
   "source": [
    "# first five rows\n",
    "df.head()"
   ]
  },
  {
   "cell_type": "code",
   "execution_count": 8,
   "metadata": {},
   "outputs": [
    {
     "data": {
      "text/html": [
       "<div>\n",
       "<style scoped>\n",
       "    .dataframe tbody tr th:only-of-type {\n",
       "        vertical-align: middle;\n",
       "    }\n",
       "\n",
       "    .dataframe tbody tr th {\n",
       "        vertical-align: top;\n",
       "    }\n",
       "\n",
       "    .dataframe thead th {\n",
       "        text-align: right;\n",
       "    }\n",
       "</style>\n",
       "<table border=\"1\" class=\"dataframe\">\n",
       "  <thead>\n",
       "    <tr style=\"text-align: right;\">\n",
       "      <th></th>\n",
       "      <th>id</th>\n",
       "      <th>tweet_url</th>\n",
       "      <th>created_at</th>\n",
       "      <th>parsed_created_at</th>\n",
       "      <th>user_screen_name</th>\n",
       "      <th>text</th>\n",
       "      <th>tweet_type</th>\n",
       "      <th>coordinates</th>\n",
       "      <th>place</th>\n",
       "      <th>hashtags</th>\n",
       "      <th>...</th>\n",
       "      <th>user_favourites_count</th>\n",
       "      <th>user_followers_count</th>\n",
       "      <th>user_friends_count</th>\n",
       "      <th>user_listed_count</th>\n",
       "      <th>user_location</th>\n",
       "      <th>user_name</th>\n",
       "      <th>user_statuses_count</th>\n",
       "      <th>user_time_zone</th>\n",
       "      <th>user_urls</th>\n",
       "      <th>user_verified</th>\n",
       "    </tr>\n",
       "  </thead>\n",
       "  <tbody>\n",
       "    <tr>\n",
       "      <th>285016</th>\n",
       "      <td>1089195480817512449</td>\n",
       "      <td>https://twitter.com/Rand0mB1tsUK/status/108919...</td>\n",
       "      <td>Sat Jan 26 16:16:53 +0000 2019</td>\n",
       "      <td>2019-01-26 16:16:53+00:00</td>\n",
       "      <td>Rand0mB1tsUK</td>\n",
       "      <td>RT @CarolineLucas: #DearLeavers,\\n\\nYou were r...</td>\n",
       "      <td>retweet</td>\n",
       "      <td>NaN</td>\n",
       "      <td>NaN</td>\n",
       "      <td>DearLeavers</td>\n",
       "      <td>...</td>\n",
       "      <td>4002</td>\n",
       "      <td>2659</td>\n",
       "      <td>2908</td>\n",
       "      <td>42</td>\n",
       "      <td>UK</td>\n",
       "      <td>Random Bits 🔶 #FBPE #FinalSay</td>\n",
       "      <td>46012</td>\n",
       "      <td>NaN</td>\n",
       "      <td>NaN</td>\n",
       "      <td>False</td>\n",
       "    </tr>\n",
       "    <tr>\n",
       "      <th>285017</th>\n",
       "      <td>1089195478124769280</td>\n",
       "      <td>https://twitter.com/LScratchwood/status/108919...</td>\n",
       "      <td>Sat Jan 26 16:16:52 +0000 2019</td>\n",
       "      <td>2019-01-26 16:16:52+00:00</td>\n",
       "      <td>LScratchwood</td>\n",
       "      <td>RT @women4PV: Rosa has been running her flower...</td>\n",
       "      <td>retweet</td>\n",
       "      <td>NaN</td>\n",
       "      <td>NaN</td>\n",
       "      <td>Brexit</td>\n",
       "      <td>...</td>\n",
       "      <td>3060</td>\n",
       "      <td>74</td>\n",
       "      <td>141</td>\n",
       "      <td>0</td>\n",
       "      <td>Dublin City, Ireland</td>\n",
       "      <td>Lieutenant Scratchwood</td>\n",
       "      <td>1896</td>\n",
       "      <td>NaN</td>\n",
       "      <td>NaN</td>\n",
       "      <td>False</td>\n",
       "    </tr>\n",
       "    <tr>\n",
       "      <th>285018</th>\n",
       "      <td>1089195464300277760</td>\n",
       "      <td>https://twitter.com/DougAlder/status/108919546...</td>\n",
       "      <td>Sat Jan 26 16:16:49 +0000 2019</td>\n",
       "      <td>2019-01-26 16:16:49+00:00</td>\n",
       "      <td>DougAlder</td>\n",
       "      <td>#Brexit #Caturday https://t.co/SHIi5SkjOc</td>\n",
       "      <td>original</td>\n",
       "      <td>NaN</td>\n",
       "      <td>NaN</td>\n",
       "      <td>Brexit Caturday</td>\n",
       "      <td>...</td>\n",
       "      <td>9631</td>\n",
       "      <td>992</td>\n",
       "      <td>2328</td>\n",
       "      <td>32</td>\n",
       "      <td>NaN</td>\n",
       "      <td>Just your average Maple Syrup bot</td>\n",
       "      <td>12283</td>\n",
       "      <td>NaN</td>\n",
       "      <td>NaN</td>\n",
       "      <td>False</td>\n",
       "    </tr>\n",
       "    <tr>\n",
       "      <th>285019</th>\n",
       "      <td>1089195461364408320</td>\n",
       "      <td>https://twitter.com/TraceF1/status/10891954613...</td>\n",
       "      <td>Sat Jan 26 16:16:48 +0000 2019</td>\n",
       "      <td>2019-01-26 16:16:48+00:00</td>\n",
       "      <td>TraceF1</td>\n",
       "      <td>RT @PrinceBraith9th: MB NEWS: Ann Widdecombe -...</td>\n",
       "      <td>retweet</td>\n",
       "      <td>NaN</td>\n",
       "      <td>NaN</td>\n",
       "      <td>NaN</td>\n",
       "      <td>...</td>\n",
       "      <td>11351</td>\n",
       "      <td>502</td>\n",
       "      <td>505</td>\n",
       "      <td>1</td>\n",
       "      <td>London</td>\n",
       "      <td>sunshine dayz 17.4M voted for No deal</td>\n",
       "      <td>3630</td>\n",
       "      <td>NaN</td>\n",
       "      <td>NaN</td>\n",
       "      <td>False</td>\n",
       "    </tr>\n",
       "    <tr>\n",
       "      <th>285020</th>\n",
       "      <td>1089195458252206080</td>\n",
       "      <td>https://twitter.com/IceColdCole/status/1089195...</td>\n",
       "      <td>Sat Jan 26 16:16:48 +0000 2019</td>\n",
       "      <td>2019-01-26 16:16:48+00:00</td>\n",
       "      <td>IceColdCole</td>\n",
       "      <td>RT @haynesdeborah: EXCLUSIVE: Armed forces hav...</td>\n",
       "      <td>retweet</td>\n",
       "      <td>NaN</td>\n",
       "      <td>NaN</td>\n",
       "      <td>NaN</td>\n",
       "      <td>...</td>\n",
       "      <td>3062</td>\n",
       "      <td>41</td>\n",
       "      <td>212</td>\n",
       "      <td>0</td>\n",
       "      <td>Stuck between VXH and WCP</td>\n",
       "      <td>Adam Cole</td>\n",
       "      <td>3093</td>\n",
       "      <td>NaN</td>\n",
       "      <td>NaN</td>\n",
       "      <td>False</td>\n",
       "    </tr>\n",
       "  </tbody>\n",
       "</table>\n",
       "<p>5 rows × 37 columns</p>\n",
       "</div>"
      ],
      "text/plain": [
       "                         id  \\\n",
       "285016  1089195480817512449   \n",
       "285017  1089195478124769280   \n",
       "285018  1089195464300277760   \n",
       "285019  1089195461364408320   \n",
       "285020  1089195458252206080   \n",
       "\n",
       "                                                tweet_url  \\\n",
       "285016  https://twitter.com/Rand0mB1tsUK/status/108919...   \n",
       "285017  https://twitter.com/LScratchwood/status/108919...   \n",
       "285018  https://twitter.com/DougAlder/status/108919546...   \n",
       "285019  https://twitter.com/TraceF1/status/10891954613...   \n",
       "285020  https://twitter.com/IceColdCole/status/1089195...   \n",
       "\n",
       "                            created_at         parsed_created_at  \\\n",
       "285016  Sat Jan 26 16:16:53 +0000 2019 2019-01-26 16:16:53+00:00   \n",
       "285017  Sat Jan 26 16:16:52 +0000 2019 2019-01-26 16:16:52+00:00   \n",
       "285018  Sat Jan 26 16:16:49 +0000 2019 2019-01-26 16:16:49+00:00   \n",
       "285019  Sat Jan 26 16:16:48 +0000 2019 2019-01-26 16:16:48+00:00   \n",
       "285020  Sat Jan 26 16:16:48 +0000 2019 2019-01-26 16:16:48+00:00   \n",
       "\n",
       "       user_screen_name                                               text  \\\n",
       "285016     Rand0mB1tsUK  RT @CarolineLucas: #DearLeavers,\\n\\nYou were r...   \n",
       "285017     LScratchwood  RT @women4PV: Rosa has been running her flower...   \n",
       "285018        DougAlder          #Brexit #Caturday https://t.co/SHIi5SkjOc   \n",
       "285019          TraceF1  RT @PrinceBraith9th: MB NEWS: Ann Widdecombe -...   \n",
       "285020      IceColdCole  RT @haynesdeborah: EXCLUSIVE: Armed forces hav...   \n",
       "\n",
       "       tweet_type coordinates place         hashtags  ...  \\\n",
       "285016    retweet         NaN   NaN      DearLeavers  ...   \n",
       "285017    retweet         NaN   NaN           Brexit  ...   \n",
       "285018   original         NaN   NaN  Brexit Caturday  ...   \n",
       "285019    retweet         NaN   NaN              NaN  ...   \n",
       "285020    retweet         NaN   NaN              NaN  ...   \n",
       "\n",
       "       user_favourites_count user_followers_count  user_friends_count  \\\n",
       "285016                  4002                 2659                2908   \n",
       "285017                  3060                   74                 141   \n",
       "285018                  9631                  992                2328   \n",
       "285019                 11351                  502                 505   \n",
       "285020                  3062                   41                 212   \n",
       "\n",
       "       user_listed_count              user_location  \\\n",
       "285016                42                         UK   \n",
       "285017                 0       Dublin City, Ireland   \n",
       "285018                32                        NaN   \n",
       "285019                 1                     London   \n",
       "285020                 0  Stuck between VXH and WCP   \n",
       "\n",
       "                                    user_name user_statuses_count  \\\n",
       "285016          Random Bits 🔶 #FBPE #FinalSay               46012   \n",
       "285017                 Lieutenant Scratchwood                1896   \n",
       "285018      Just your average Maple Syrup bot               12283   \n",
       "285019  sunshine dayz 17.4M voted for No deal                3630   \n",
       "285020                              Adam Cole                3093   \n",
       "\n",
       "       user_time_zone  user_urls  user_verified  \n",
       "285016            NaN        NaN          False  \n",
       "285017            NaN        NaN          False  \n",
       "285018            NaN        NaN          False  \n",
       "285019            NaN        NaN          False  \n",
       "285020            NaN        NaN          False  \n",
       "\n",
       "[5 rows x 37 columns]"
      ]
     },
     "execution_count": 8,
     "metadata": {},
     "output_type": "execute_result"
    }
   ],
   "source": [
    "# last five rows\n",
    "df.tail()"
   ]
  },
  {
   "cell_type": "markdown",
   "metadata": {},
   "source": [
    "**Variables/Column names**"
   ]
  },
  {
   "cell_type": "code",
   "execution_count": 9,
   "metadata": {},
   "outputs": [
    {
     "data": {
      "text/plain": [
       "Index(['id', 'tweet_url', 'created_at', 'parsed_created_at',\n",
       "       'user_screen_name', 'text', 'tweet_type', 'coordinates', 'place',\n",
       "       'hashtags', 'media', 'urls', 'favorite_count',\n",
       "       'in_reply_to_screen_name', 'in_reply_to_status_id',\n",
       "       'in_reply_to_user_id', 'lang', 'possibly_sensitive', 'retweet_count',\n",
       "       'retweet_or_quote_id', 'retweet_or_quote_screen_name',\n",
       "       'retweet_or_quote_user_id', 'source', 'user_id', 'user_created_at',\n",
       "       'user_default_profile_image', 'user_description',\n",
       "       'user_favourites_count', 'user_followers_count', 'user_friends_count',\n",
       "       'user_listed_count', 'user_location', 'user_name',\n",
       "       'user_statuses_count', 'user_time_zone', 'user_urls', 'user_verified'],\n",
       "      dtype='object')"
      ]
     },
     "execution_count": 9,
     "metadata": {},
     "output_type": "execute_result"
    }
   ],
   "source": [
    "df.columns"
   ]
  },
  {
   "cell_type": "markdown",
   "metadata": {},
   "source": [
    "**Variable/Column types**"
   ]
  },
  {
   "cell_type": "code",
   "execution_count": 10,
   "metadata": {},
   "outputs": [
    {
     "data": {
      "text/plain": [
       "id                                            int64\n",
       "tweet_url                                    object\n",
       "created_at                                   object\n",
       "parsed_created_at               datetime64[ns, UTC]\n",
       "user_screen_name                             object\n",
       "text                                         object\n",
       "tweet_type                                   object\n",
       "coordinates                                  object\n",
       "place                                        object\n",
       "hashtags                                     object\n",
       "media                                        object\n",
       "urls                                         object\n",
       "favorite_count                                int64\n",
       "in_reply_to_screen_name                      object\n",
       "in_reply_to_status_id                       float64\n",
       "in_reply_to_user_id                         float64\n",
       "lang                                         object\n",
       "possibly_sensitive                           object\n",
       "retweet_count                                 int64\n",
       "retweet_or_quote_id                         float64\n",
       "retweet_or_quote_screen_name                 object\n",
       "retweet_or_quote_user_id                    float64\n",
       "source                                       object\n",
       "user_id                                       int64\n",
       "user_created_at                              object\n",
       "user_default_profile_image                     bool\n",
       "user_description                             object\n",
       "user_favourites_count                         int64\n",
       "user_followers_count                          int64\n",
       "user_friends_count                            int64\n",
       "user_listed_count                             int64\n",
       "user_location                                object\n",
       "user_name                                    object\n",
       "user_statuses_count                           int64\n",
       "user_time_zone                              float64\n",
       "user_urls                                    object\n",
       "user_verified                                  bool\n",
       "dtype: object"
      ]
     },
     "execution_count": 10,
     "metadata": {},
     "output_type": "execute_result"
    }
   ],
   "source": [
    "df.dtypes"
   ]
  },
  {
   "cell_type": "markdown",
   "metadata": {},
   "source": [
    "## Basic Stats"
   ]
  },
  {
   "cell_type": "code",
   "execution_count": 11,
   "metadata": {},
   "outputs": [
    {
     "data": {
      "text/plain": [
       "(285021, 37)"
      ]
     },
     "execution_count": 11,
     "metadata": {},
     "output_type": "execute_result"
    }
   ],
   "source": [
    "df.shape"
   ]
  },
  {
   "cell_type": "code",
   "execution_count": 12,
   "metadata": {},
   "outputs": [
    {
     "name": "stdout",
     "output_type": "stream",
     "text": [
      "There are 285021 rows (observations) and 37 columns (variables)\n"
     ]
    }
   ],
   "source": [
    "print(f'There are {df.shape[0]} rows (observations) and {df.shape[1]} columns (variables)')"
   ]
  },
  {
   "cell_type": "markdown",
   "metadata": {},
   "source": [
    "### Tweet Types"
   ]
  },
  {
   "cell_type": "code",
   "execution_count": 13,
   "metadata": {},
   "outputs": [
    {
     "name": "stdout",
     "output_type": "stream",
     "text": [
      "retweet     208021\n",
      "original     42805\n",
      "reply        18494\n",
      "quote        15701\n",
      "Name: tweet_type, dtype: int64\n"
     ]
    }
   ],
   "source": [
    "types = (df\n",
    "         .tweet_type\n",
    "         .value_counts()\n",
    "        )\n",
    "print(types)"
   ]
  },
  {
   "cell_type": "code",
   "execution_count": 14,
   "metadata": {},
   "outputs": [
    {
     "data": {
      "image/png": "[encoded data removed]",
      "text/plain": [
       "<Figure size 432x288 with 1 Axes>"
      ]
     },
     "metadata": {
      "image/png": {
       "height": 250,
       "width": 396
      },
      "needs_background": "light"
     },
     "output_type": "display_data"
    }
   ],
   "source": [
    "_ = sns.barplot(x=types.index, y=types.values, alpha=0.8)"
   ]
  },
  {
   "cell_type": "markdown",
   "metadata": {},
   "source": [
    "### Tweet Types by Day"
   ]
  },
  {
   "cell_type": "code",
   "execution_count": 15,
   "metadata": {},
   "outputs": [],
   "source": [
    "df.set_index('parsed_created_at', inplace=True)"
   ]
  },
  {
   "cell_type": "code",
   "execution_count": 16,
   "metadata": {},
   "outputs": [],
   "source": [
    "df['day'] = df.index.date"
   ]
  },
  {
   "cell_type": "code",
   "execution_count": 17,
   "metadata": {},
   "outputs": [],
   "source": [
    "daily_plot = df.groupby(['day', 'tweet_type']).size().unstack()"
   ]
  },
  {
   "cell_type": "code",
   "execution_count": 18,
   "metadata": {},
   "outputs": [
    {
     "data": {
      "image/png": "[encoded data removed]",
      "text/plain": [
       "<Figure size 432x288 with 1 Axes>"
      ]
     },
     "metadata": {
      "image/png": {
       "height": 277,
       "width": 407
      },
      "needs_background": "light"
     },
     "output_type": "display_data"
    }
   ],
   "source": [
    "_ = daily_plot.plot(title='Daily Tweets by Type', logy=True)"
   ]
  },
  {
   "cell_type": "markdown",
   "metadata": {},
   "source": [
    "Note that the y-axis is on the log scale. "
   ]
  },
  {
   "cell_type": "markdown",
   "metadata": {},
   "source": [
    "### Users"
   ]
  },
  {
   "cell_type": "code",
   "execution_count": 19,
   "metadata": {},
   "outputs": [
    {
     "data": {
      "text/plain": [
       "111190"
      ]
     },
     "execution_count": 19,
     "metadata": {},
     "output_type": "execute_result"
    }
   ],
   "source": [
    "# number of unique tweeters\n",
    "df['user_screen_name'].nunique()"
   ]
  },
  {
   "cell_type": "code",
   "execution_count": 20,
   "metadata": {},
   "outputs": [
    {
     "name": "stdout",
     "output_type": "stream",
     "text": [
      "There are 111190 distinct users.\n"
     ]
    }
   ],
   "source": [
    "print(f\"There are {df['user_screen_name'].nunique()} distinct users.\")"
   ]
  },
  {
   "cell_type": "code",
   "execution_count": 21,
   "metadata": {},
   "outputs": [],
   "source": [
    "tweeps = (df.groupby(['user_screen_name'])\n",
    "         .count()\n",
    "         .reset_index())"
   ]
  },
  {
   "cell_type": "code",
   "execution_count": 22,
   "metadata": {},
   "outputs": [],
   "source": [
    "tweeps = (tweeps\n",
    "         .sort_values(by='text')\n",
    "         .tail(10))"
   ]
  },
  {
   "cell_type": "code",
   "execution_count": 23,
   "metadata": {},
   "outputs": [
    {
     "data": {
      "image/png": "[encoded data removed]",
      "text/plain": [
       "<Figure size 432x288 with 1 Axes>"
      ]
     },
     "metadata": {
      "image/png": {
       "height": 337,
       "width": 390
      },
      "needs_background": "light"
     },
     "output_type": "display_data"
    }
   ],
   "source": [
    "x = tweeps['user_screen_name']\n",
    "y = tweeps['text']\n",
    "plt.xlabel('Twitter handle')\n",
    "plt.ylabel('Number of Tweets')\n",
    "plt.title('Most number of Tweets by user')\n",
    "h=plt.bar(range(10), y, label='Most Tweets by user')\n",
    "xticks_pos = [0.65*patch.get_width() + patch.get_xy()[0] for patch in h]\n",
    "_ = plt.xticks(xticks_pos, x, ha='right', rotation=45)"
   ]
  },
  {
   "cell_type": "markdown",
   "metadata": {},
   "source": [
    "### Languages"
   ]
  },
  {
   "cell_type": "code",
   "execution_count": 24,
   "metadata": {},
   "outputs": [
    {
     "data": {
      "text/plain": [
       "49"
      ]
     },
     "execution_count": 24,
     "metadata": {},
     "output_type": "execute_result"
    }
   ],
   "source": [
    "df['lang'].nunique()"
   ]
  },
  {
   "cell_type": "code",
   "execution_count": 25,
   "metadata": {},
   "outputs": [
    {
     "name": "stdout",
     "output_type": "stream",
     "text": [
      "There are 49 distinct languages (including undetermined ones)\n"
     ]
    }
   ],
   "source": [
    "print(f\"There are {df['lang'].nunique()} distinct languages (including undetermined ones)\")"
   ]
  },
  {
   "cell_type": "code",
   "execution_count": 26,
   "metadata": {},
   "outputs": [
    {
     "data": {
      "text/plain": [
       "en     259797\n",
       "fr       5733\n",
       "und      5162\n",
       "de       4299\n",
       "es       3103\n",
       "it       2439\n",
       "nl       1353\n",
       "pl        716\n",
       "fi        313\n",
       "ca        292\n",
       "Name: lang, dtype: int64"
      ]
     },
     "execution_count": 26,
     "metadata": {},
     "output_type": "execute_result"
    }
   ],
   "source": [
    "languages = (df\n",
    "             .lang\n",
    "             .value_counts())\n",
    "\n",
    "languages.head(10)"
   ]
  },
  {
   "cell_type": "markdown",
   "metadata": {},
   "source": [
    "#### Undetermined languages"
   ]
  },
  {
   "cell_type": "markdown",
   "metadata": {},
   "source": [
    "Let's take a look at languages that Twitter didn't classify"
   ]
  },
  {
   "cell_type": "code",
   "execution_count": 29,
   "metadata": {},
   "outputs": [],
   "source": [
    "# create a mask for filtering\n",
    "und = df['lang'] == 'und'"
   ]
  },
  {
   "cell_type": "code",
   "execution_count": 32,
   "metadata": {},
   "outputs": [
    {
     "data": {
      "text/plain": [
       "parsed_created_at\n",
       "2019-01-25 23:16:15+00:00       #Brexit ⁦@MarkHiggie1⁩ https://t.co/ggfsSSp8Lq\n",
       "2019-01-25 23:15:27+00:00                      #Brexit https://t.co/qzi31LKvpk\n",
       "2019-01-25 23:10:07+00:00    #Brexit #Scotland #Wales #England  #Northernir...\n",
       "2019-01-25 23:09:57+00:00    #Brexit #Scotland #Wales #England  #Northernir...\n",
       "2019-01-25 23:09:43+00:00    #Brexit #Scotland #Wales #England  #Northernir...\n",
       "2019-01-25 23:09:34+00:00    #Brexit #Scotland #Wales #England  #Northernir...\n",
       "2019-01-25 23:09:04+00:00    #Brexit #Scotland #Wales #England  #Northernir...\n",
       "2019-01-25 23:08:52+00:00    #Brexit #Scotland #Wales #England  #Northernir...\n",
       "2019-01-25 23:06:57+00:00    #Brexit #Scotland #Wales #England  #Northernir...\n",
       "2019-01-25 23:06:47+00:00    #Brexit #Scotland #Wales #England  #Northernir...\n",
       "2019-01-25 23:04:46+00:00    #Brexit #Scotland #Wales #England  #Northernir...\n",
       "2019-01-25 23:04:35+00:00    #Brexit #Scotland #Wales #England  #Northernir...\n",
       "2019-01-25 23:03:45+00:00    #Brexit #Scotland #Wales #England  #Northernir...\n",
       "2019-01-25 23:02:33+00:00    RT @infowarsholland: https://t.co/lARV5cQlm1. ...\n",
       "2019-01-25 23:02:16+00:00    RT @infowarsholland: https://t.co/lARV5cQlm1. ...\n",
       "2019-01-25 23:01:59+00:00    #Brexit #Scotland #Wales #England  #Northernir...\n",
       "2019-01-25 23:01:09+00:00    #nastyparty #brexit #smokescreen https://t.co/...\n",
       "2019-01-25 23:00:31+00:00     RT @labourleave: #brexit https://t.co/WtiNdev0zd\n",
       "2019-01-25 22:56:07+00:00    RT @teamliftworking: #Wyoming #BREXIT #Oregon ...\n",
       "2019-01-25 22:50:10+00:00                      #Brexit https://t.co/uEzJYQSUEZ\n",
       "Name: text, dtype: object"
      ]
     },
     "execution_count": 32,
     "metadata": {},
     "output_type": "execute_result"
    }
   ],
   "source": [
    "df[und]['text'].head(20)"
   ]
  },
  {
   "cell_type": "markdown",
   "metadata": {},
   "source": [
    "Looks like these are tweets that consist only of hashtags, mentions, urls, etc. Should try to examine further. "
   ]
  },
  {
   "cell_type": "markdown",
   "metadata": {},
   "source": [
    "### Hashtags"
   ]
  },
  {
   "cell_type": "markdown",
   "metadata": {},
   "source": [
    "We'll get the hashtags from the text to make sure we get all of them, as the `hashtag` field isn't always reliable. "
   ]
  },
  {
   "cell_type": "code",
   "execution_count": null,
   "metadata": {},
   "outputs": [],
   "source": [
    "hashtags = (df\n",
    "            .text\n",
    "            .str.extractall(r'(\\#\\w+)')[0]\n",
    "            .str.lower()\n",
    "            .value_counts()\n",
    "           )"
   ]
  },
  {
   "cell_type": "code",
   "execution_count": null,
   "metadata": {},
   "outputs": [],
   "source": [
    "hashtags.nunique()"
   ]
  },
  {
   "cell_type": "code",
   "execution_count": null,
   "metadata": {},
   "outputs": [],
   "source": [
    "hashtags = hashtags[1:11,]"
   ]
  },
  {
   "cell_type": "code",
   "execution_count": null,
   "metadata": {},
   "outputs": [],
   "source": [
    "hashtags"
   ]
  },
  {
   "cell_type": "code",
   "execution_count": null,
   "metadata": {},
   "outputs": [],
   "source": [
    "_ = sns.barplot(x=hashtags.values, y=hashtags.index, alpha=0.8)"
   ]
  },
  {
   "cell_type": "markdown",
   "metadata": {},
   "source": [
    "### Mentions"
   ]
  },
  {
   "cell_type": "code",
   "execution_count": null,
   "metadata": {},
   "outputs": [],
   "source": [
    "mentions = (df\n",
    "            .text\n",
    "            .str.extractall(r'(@[\\w_]+)')[0]\n",
    "            .str.lower()\n",
    "            .value_counts()\n",
    ")"
   ]
  },
  {
   "cell_type": "code",
   "execution_count": null,
   "metadata": {},
   "outputs": [],
   "source": [
    "mentions = mentions[:10,]"
   ]
  },
  {
   "cell_type": "code",
   "execution_count": null,
   "metadata": {},
   "outputs": [],
   "source": [
    "_ = sns.barplot(x=mentions.values, y=mentions.index, alpha=0.8)"
   ]
  },
  {
   "cell_type": "markdown",
   "metadata": {},
   "source": [
    "### Wordcloud"
   ]
  },
  {
   "cell_type": "markdown",
   "metadata": {},
   "source": [
    "I have my doubts about how informative wordclouds actually are, but maybe they work as art."
   ]
  },
  {
   "cell_type": "code",
   "execution_count": null,
   "metadata": {},
   "outputs": [],
   "source": [
    "junk = re.compile(\"al|RT|\\n|&.*?;|http[s](?://(?:[a-zA-Z]|[0-9]|[$-_@.&+]|[!*\\(\\),]|(?:%[0-9a-fA-F][0-9a-fA-F]))+)*\")\n",
    "tweets = [junk.sub(\" \", t) for t in df.text]\n",
    "\n",
    "vec = TfidfVectorizer(stop_words='english', ngram_range=(1,2), max_df=.5)\n",
    "tfv = vec.fit_transform(tweets)\n",
    "\n",
    "terms = vec.get_feature_names()\n",
    "wc = WordCloud(height=1000, width=1000, max_words=1000).generate(\" \".join(terms))\n",
    "\n",
    "plt.figure(figsize=(10, 10))\n",
    "plt.imshow(wc)\n",
    "plt.axis(\"off\")\n",
    "plt.show()"
   ]
  },
  {
   "cell_type": "markdown",
   "metadata": {},
   "source": [
    "That included some non-English tweets, so let's correct that. "
   ]
  },
  {
   "cell_type": "code",
   "execution_count": null,
   "metadata": {},
   "outputs": [],
   "source": [
    "english_df = df[df.lang == 'en']"
   ]
  },
  {
   "cell_type": "code",
   "execution_count": null,
   "metadata": {},
   "outputs": [],
   "source": [
    "junk = re.compile(\"al|RT|\\n|&.*?;|http[s](?://(?:[a-zA-Z]|[0-9]|[$-_@.&+]|[!*\\(\\),]|(?:%[0-9a-fA-F][0-9a-fA-F]))+)*\")\n",
    "tweets = [junk.sub(\" \", t) for t in english_df.text]\n",
    "\n",
    "vec = TfidfVectorizer(stop_words='english', ngram_range=(1,2), max_df=.5)\n",
    "tfv = vec.fit_transform(tweets)\n",
    "\n",
    "terms = vec.get_feature_names()\n",
    "wc = WordCloud(height=1000, width=1000, max_words=1000).generate(\" \".join(terms))\n",
    "\n",
    "plt.figure(figsize=(10, 10))\n",
    "plt.imshow(wc)\n",
    "plt.axis(\"off\")\n",
    "plt.show()"
   ]
  },
  {
   "cell_type": "code",
   "execution_count": null,
   "metadata": {},
   "outputs": [],
   "source": []
  }
 ],
 "metadata": {
  "kernelspec": {
   "display_name": "Python 3",
   "language": "python",
   "name": "python3"
  },
  "language_info": {
   "codemirror_mode": {
    "name": "ipython",
    "version": 3
   },
   "file_extension": ".py",
   "mimetype": "text/x-python",
   "name": "python",
   "nbconvert_exporter": "python",
   "pygments_lexer": "ipython3",
   "version": "3.7.3"
  }
 },
 "nbformat": 4,
 "nbformat_minor": 2
}
